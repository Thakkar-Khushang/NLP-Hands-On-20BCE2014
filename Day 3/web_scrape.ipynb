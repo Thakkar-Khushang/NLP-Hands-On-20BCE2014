{
 "cells": [
  {
   "cell_type": "code",
   "execution_count": 9,
   "metadata": {},
   "outputs": [],
   "source": [
    "from urllib import request"
   ]
  },
  {
   "cell_type": "code",
   "execution_count": 10,
   "metadata": {},
   "outputs": [],
   "source": [
    "url = \"https://www.gutenberg.org/files/98/98-0.txt\""
   ]
  },
  {
   "cell_type": "code",
   "execution_count": 12,
   "metadata": {},
   "outputs": [],
   "source": [
    "response = request.urlopen(url)"
   ]
  },
  {
   "cell_type": "code",
   "execution_count": 13,
   "metadata": {},
   "outputs": [],
   "source": [
    "raw = response.read().decode('utf8')"
   ]
  },
  {
   "cell_type": "code",
   "execution_count": 14,
   "metadata": {},
   "outputs": [],
   "source": [
    "import nltk\n",
    "from nltk.tokenize import word_tokenize\n",
    "tokens= word_tokenize(raw)"
   ]
  },
  {
   "cell_type": "code",
   "execution_count": 15,
   "metadata": {},
   "outputs": [
    {
     "name": "stdout",
     "output_type": "stream",
     "text": [
      "['\\ufeffThe', 'Project', 'Gutenberg', 'eBook', 'of', 'A', 'Tale', 'of', 'Two', 'Cities', ',', 'by', 'Charles', 'Dickens', 'This', 'eBook', 'is', 'for', 'the', 'use']\n"
     ]
    }
   ],
   "source": [
    "print(tokens[:20])"
   ]
  },
  {
   "cell_type": "code",
   "execution_count": 21,
   "metadata": {},
   "outputs": [
    {
     "data": {
      "text/plain": [
       "'happi'"
      ]
     },
     "execution_count": 21,
     "metadata": {},
     "output_type": "execute_result"
    }
   ],
   "source": [
    "from nltk.stem import PorterStemmer\n",
    "porter = PorterStemmer()\n",
    "print(porter.stem('walking'))\n",
    "print(porter.stem('happiness'))\n",
    "print(porter.stem('cacti'))\n",
    "print(porter.stem('happiness'))"
   ]
  },
  {
   "cell_type": "code",
   "execution_count": 23,
   "metadata": {},
   "outputs": [
    {
     "name": "stdout",
     "output_type": "stream",
     "text": [
      "walk\n",
      "happy\n",
      "cact\n",
      "happy\n"
     ]
    }
   ],
   "source": [
    "from nltk.stem import LancasterStemmer\n",
    "porter = LancasterStemmer()\n",
    "print(porter.stem('walking'))\n",
    "print(porter.stem('happiness'))\n",
    "print(porter.stem('cacti'))"
   ]
  },
  {
   "cell_type": "code",
   "execution_count": 29,
   "metadata": {},
   "outputs": [
    {
     "name": "stdout",
     "output_type": "stream",
     "text": [
      "walk\n",
      "runn\n",
      "cunn\n"
     ]
    }
   ],
   "source": [
    "from nltk.stem import RegexpStemmer\n",
    "porter = RegexpStemmer('ing')\n",
    "print(porter.stem('walking'))\n",
    "print(porter.stem('running'))\n",
    "print(porter.stem('cunning'))"
   ]
  },
  {
   "cell_type": "code",
   "execution_count": 30,
   "metadata": {},
   "outputs": [
    {
     "name": "stdout",
     "output_type": "stream",
     "text": [
      "detest\n",
      "avoir\n"
     ]
    }
   ],
   "source": [
    "from nltk.stem import SnowballStemmer\n",
    "porter = SnowballStemmer(language='french')\n",
    "print(porter.stem('detester'))\n",
    "print(porter.stem('avoir'))"
   ]
  },
  {
   "cell_type": "code",
   "execution_count": 32,
   "metadata": {},
   "outputs": [
    {
     "name": "stdout",
     "output_type": "stream",
     "text": [
      "in\n",
      "england\n",
      ",\n",
      "there\n",
      "wa\n",
      "scarc\n",
      "an\n",
      "amount\n",
      "of\n",
      "order\n",
      "and\n",
      "protect\n",
      "to\n",
      "justifi\n",
      "much\n",
      "nation\n",
      "boast\n",
      ".\n",
      "dare\n",
      "burglari\n",
      "by\n",
      "arm\n",
      "men\n",
      ",\n",
      "and\n",
      "highway\n",
      "robberi\n",
      ",\n",
      "took\n",
      "place\n",
      "in\n",
      "the\n",
      "capit\n",
      "itself\n",
      "everi\n",
      "night\n",
      ";\n"
     ]
    }
   ],
   "source": [
    "porter = PorterStemmer()\n",
    "text = \"In England, there was scarcely an amount of order and protection to justify much national boasting. Daring burglaries by armed men, and highway robberies, took place in the capital itself every night;\"\n",
    "tok = word_tokenize(text)\n",
    "for word in tok:\n",
    "    print(porter.stem(word))"
   ]
  },
  {
   "cell_type": "code",
   "execution_count": 33,
   "metadata": {},
   "outputs": [
    {
     "name": "stdout",
     "output_type": "stream",
     "text": [
      "in\n",
      "england\n",
      ",\n",
      "ther\n",
      "was\n",
      "scarc\n",
      "an\n",
      "amount\n",
      "of\n",
      "ord\n",
      "and\n",
      "protect\n",
      "to\n",
      "just\n",
      "much\n",
      "nat\n",
      "boast\n",
      ".\n",
      "dar\n",
      "burgl\n",
      "by\n",
      "arm\n",
      "men\n",
      ",\n",
      "and\n",
      "highway\n",
      "robbery\n",
      ",\n",
      "took\n",
      "plac\n",
      "in\n",
      "the\n",
      "capit\n",
      "itself\n",
      "every\n",
      "night\n",
      ";\n"
     ]
    }
   ],
   "source": [
    "porter = LancasterStemmer()\n",
    "text = \"In England, there was scarcely an amount of order and protection to justify much national boasting. Daring burglaries by armed men, and highway robberies, took place in the capital itself every night;\"\n",
    "tok = word_tokenize(text)\n",
    "for word in tok:\n",
    "    print(porter.stem(word))"
   ]
  }
 ],
 "metadata": {
  "kernelspec": {
   "display_name": "Python 3",
   "language": "python",
   "name": "python3"
  },
  "language_info": {
   "codemirror_mode": {
    "name": "ipython",
    "version": 3
   },
   "file_extension": ".py",
   "mimetype": "text/x-python",
   "name": "python",
   "nbconvert_exporter": "python",
   "pygments_lexer": "ipython3",
   "version": "3.10.4"
  },
  "orig_nbformat": 4,
  "vscode": {
   "interpreter": {
    "hash": "ac99e29add303e2a812892ad991e0155629326fb90c5c1b1b78abaa58f3df969"
   }
  }
 },
 "nbformat": 4,
 "nbformat_minor": 2
}
